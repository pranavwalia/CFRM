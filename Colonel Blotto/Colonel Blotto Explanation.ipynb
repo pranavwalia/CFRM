{
 "cells": [
  {
   "cell_type": "markdown",
   "metadata": {},
   "source": [
    "# Colonel Blotto Toy Game\n",
    "Colonel Blotto and his arch-enemy, Boba Fett, are at war. Each commander has S soldiers in total,\n",
    "and each soldier can be assigned to one of N < S battlefields. Naturally, these commanders do not\n",
    "communicate and hence direct their soldiers independently. Any number of soldiers can be allocated\n",
    "to each battlefield, including zero. A commander claims a battlefield if they send more soldiers to\n",
    "the battlefield than their opponent. The commander’s job is to break down his pool of soldiers into\n",
    "groups to which he assigned to each battlefield. The winning commander is the one who claims the\n",
    "most battlefields. For example, with (S, N) = (10, 4) a Colonel Blotto may choose to play (2, 2, 2, 4)\n",
    "while Boba Fett may choose to play (8, 1, 1, 0). In this case, Colonel Blotto would win by claiming\n",
    "three of the four battlefields. The war ends in a draw if both commanders claim the same number of\n",
    "battlefields.\n",
    "Write a program where each player alternately uses regret-matching to find a Nash equilibrium for\n",
    "this game with S = 5 and N = 3. Some advice: before starting the training iterations, first think\n",
    "about all the valid pure strategies for one player; then, assign each pure strategy an ID number. Pure\n",
    "strategies can be represented as strings, objects, or 3-digit numbers: make a global array of these pure\n",
    "strategies whose indices refer to the ID of the strategy. Then, make a separate function that returns\n",
    "the utility of the one of the players given the IDs of the strategies used by each commander.\n",
    "(Original Problem Found [Introduction To Counterfactual Regret Minimization, Todd W. Neller and Lanctot](http://modelai.gettysburg.edu/2013/cfr/cfr.pdf))"
   ]
  },
  {
   "cell_type": "code",
   "execution_count": null,
   "metadata": {},
   "outputs": [],
   "source": []
  }
 ],
 "metadata": {
  "kernelspec": {
   "display_name": "Python 3",
   "language": "python",
   "name": "python3"
  },
  "language_info": {
   "codemirror_mode": {
    "name": "ipython",
    "version": 3
   },
   "file_extension": ".py",
   "mimetype": "text/x-python",
   "name": "python",
   "nbconvert_exporter": "python",
   "pygments_lexer": "ipython3",
   "version": "3.8.3"
  }
 },
 "nbformat": 4,
 "nbformat_minor": 4
}
