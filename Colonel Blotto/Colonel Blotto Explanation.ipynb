{
 "cells": [
  {
   "cell_type": "markdown",
   "metadata": {},
   "source": [
    "# Introduction\n",
    "In a previous exercise we solved rock paper scissors using counterfactual regret minimization. Now, we will apply the principles learned from RPS to solve a more intriguing exercise.\n",
    "\n",
    "We will be solving a toy game of the more general [Colonel Blotto](https://en.wikipedia.org/wiki/Blotto_game) resource allocation game. In this game, two millitary generals must allocate S soldiers across N possible battlefields. Allocating more soldiers to a battlefield than one's opponent results in a conquest. Allocating an equal number of soldiers results in a tie. The player with the most conquests wins the game."
   ]
  },
  {
   "cell_type": "markdown",
   "metadata": {},
   "source": [
    "# Problem Statement\n",
    "This problem was originally posed as an exercise in [Introduction To Counterfactual Regret Minimization, Todd W. Neller and Lanctot](http://modelai.gettysburg.edu/2013/cfr/cfr.pdf) I could not find an available solution to this problem online so I took it upon myself to make one.\n",
    "\n",
    "## Colonel Blotto Toy Game (S, N) = (5, 3)\n",
    "Colonel Blotto and his arch-enemy, Boba Fett, are at war. Each commander has S soldiers in total,\n",
    "and each soldier can be assigned to one of N < S battlefields. Naturally, these commanders do not\n",
    "communicate and hence direct their soldiers independently. Any number of soldiers can be allocated\n",
    "to each battlefield, including zero. A commander claims a battlefield if they send more soldiers to\n",
    "the battlefield than their opponent. The commander’s job is to break down his pool of soldiers into\n",
    "groups to which he assigned to each battlefield. The winning commander is the one who claims the\n",
    "most battlefields. For example, with (S, N) = (10, 4) a Colonel Blotto may choose to play (2, 2, 2, 4)\n",
    "while Boba Fett may choose to play (8, 1, 1, 0). In this case, Colonel Blotto would win by claiming\n",
    "three of the four battlefields. The war ends in a draw if both commanders claim the same number of\n",
    "battlefields.\n",
    "Write a program where each player alternately uses regret-matching to find a Nash equilibrium for\n",
    "this game with S = 5 and N = 3. Some advice: before starting the training iterations, first think\n",
    "about all the valid pure strategies for one player; then, assign each pure strategy an ID number. Pure\n",
    "strategies can be represented as strings, objects, or 3-digit numbers: make a global array of these pure\n",
    "strategies whose indices refer to the ID of the strategy. Then, make a separate function that returns\n",
    "the utility of the one of the players given the IDs of the strategies used by each commander."
   ]
  },
  {
   "cell_type": "markdown",
   "metadata": {},
   "source": [
    "## Mixed vs Pure Strategy\n",
    "In the context of this game, a 'pure' strategy is a single possible allocation of soldiers eg. (3,1,1). A mixed strategy is a mixed allocation of soldiers. Example: choosing (3,1,1) 30% of the time and (5,00) 70% of the time. We will begin by implementing a function that can generate all possible pure strategies. \n",
    "\n",
    "A valid allocation can be modeled as a linear equation consisting of N variables where the sum of those variables are S\n",
    "$$\n",
    "\\sum_{i = 1}^{N} X_{i} = S\n",
    "$$\n",
    "In the case of this game, N = 3 and S = 5\n",
    "$$\n",
    "\\sum_{i = 1}^{3} X_{i} = 5\n",
    "$$\n",
    "Where $$X_{i}$$ is an integer and $$0 \\leq X_{i} \\leq S$$\n",
    "\n",
    "Knowing this, we will write a function that generates all possible solutions to the equation under these constraints. Each solution will be a possible pure strategy.\n",
    "\n",
    "### Generate Strategies Approach\n",
    "Although our problem only requires 3 battle-fields to allocate soldiers, we will generalize our function for any possible allocation of N and S. We will use a combination of loops and recursion for arbitrary nesting."
   ]
  },
  {
   "cell_type": "code",
   "execution_count": null,
   "metadata": {},
   "outputs": [],
   "source": [
    "def generateStrategies()"
   ]
  }
 ],
 "metadata": {
  "kernelspec": {
   "display_name": "Python 3",
   "language": "python",
   "name": "python3"
  },
  "language_info": {
   "codemirror_mode": {
    "name": "ipython",
    "version": 3
   },
   "file_extension": ".py",
   "mimetype": "text/x-python",
   "name": "python",
   "nbconvert_exporter": "python",
   "pygments_lexer": "ipython3",
   "version": "3.8.5"
  }
 },
 "nbformat": 4,
 "nbformat_minor": 4
}
